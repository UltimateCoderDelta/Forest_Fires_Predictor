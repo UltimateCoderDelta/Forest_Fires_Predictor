{
 "cells": [
  {
   "cell_type": "code",
   "execution_count": null,
   "id": "65e7d822-fa31-44dc-965b-a108c70c3a9a",
   "metadata": {},
   "outputs": [],
   "source": []
  }
 ],
 "metadata": {
  "kernelspec": {
   "display_name": "",
   "name": ""
  },
  "language_info": {
   "name": ""
  }
 },
 "nbformat": 4,
 "nbformat_minor": 5
}
